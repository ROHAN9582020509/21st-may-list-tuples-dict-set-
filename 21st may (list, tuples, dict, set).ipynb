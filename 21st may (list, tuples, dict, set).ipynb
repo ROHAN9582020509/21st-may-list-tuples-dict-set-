{
 "cells": [
  {
   "cell_type": "markdown",
   "id": "217db35a",
   "metadata": {},
   "source": [
    "# list (l) = A list is a data structure in Python that is a mutable, or changeable, ordered sequence of elements. Each element or value that is inside of a list is called an item. Just as strings are defined as characters between quotes, lists are defined by having values between square brackets [ ] "
   ]
  },
  {
   "cell_type": "markdown",
   "id": "d0312433",
   "metadata": {},
   "source": [
    "# https://www.digitalocean.com/community/tutorials/understanding-lists-in-python-3"
   ]
  },
  {
   "cell_type": "code",
   "execution_count": null,
   "id": "6f6aa9fe",
   "metadata": {},
   "outputs": [],
   "source": [
    "l = [1,2,3,4,5, \"sudh\" , 45.67, True]"
   ]
  },
  {
   "cell_type": "markdown",
   "id": "5f3613bf",
   "metadata": {},
   "source": [
    "# list triversal operation"
   ]
  },
  {
   "cell_type": "code",
   "execution_count": 1,
   "id": "7292a654",
   "metadata": {},
   "outputs": [],
   "source": [
    "l = [1,2,3,4,5, \"sudh\" , 45.67, True]"
   ]
  },
  {
   "cell_type": "code",
   "execution_count": 2,
   "id": "be24388c",
   "metadata": {},
   "outputs": [
    {
     "data": {
      "text/plain": [
       "1"
      ]
     },
     "execution_count": 2,
     "metadata": {},
     "output_type": "execute_result"
    }
   ],
   "source": [
    "l[0]"
   ]
  },
  {
   "cell_type": "code",
   "execution_count": 3,
   "id": "88f948f9",
   "metadata": {},
   "outputs": [
    {
     "data": {
      "text/plain": [
       "True"
      ]
     },
     "execution_count": 3,
     "metadata": {},
     "output_type": "execute_result"
    }
   ],
   "source": [
    "l[-1]"
   ]
  },
  {
   "cell_type": "code",
   "execution_count": 4,
   "id": "6db32fa4",
   "metadata": {},
   "outputs": [
    {
     "data": {
      "text/plain": [
       "8"
      ]
     },
     "execution_count": 4,
     "metadata": {},
     "output_type": "execute_result"
    }
   ],
   "source": [
    "len(l)"
   ]
  },
  {
   "cell_type": "markdown",
   "id": "122e02eb",
   "metadata": {},
   "source": [
    "# list slicing operation"
   ]
  },
  {
   "cell_type": "code",
   "execution_count": 5,
   "id": "d69bb86e",
   "metadata": {},
   "outputs": [
    {
     "data": {
      "text/plain": [
       "[1, 2, 3, 4, 5]"
      ]
     },
     "execution_count": 5,
     "metadata": {},
     "output_type": "execute_result"
    }
   ],
   "source": [
    "l[0:5]"
   ]
  },
  {
   "cell_type": "markdown",
   "id": "41e0c209",
   "metadata": {},
   "source": [
    "# reverse operation is list"
   ]
  },
  {
   "cell_type": "code",
   "execution_count": 6,
   "id": "9e2f052b",
   "metadata": {},
   "outputs": [
    {
     "data": {
      "text/plain": [
       "[True, 45.67, 'sudh', 5, 4, 3, 2, 1]"
      ]
     },
     "execution_count": 6,
     "metadata": {},
     "output_type": "execute_result"
    }
   ],
   "source": [
    "l[::-1]"
   ]
  },
  {
   "cell_type": "code",
   "execution_count": 7,
   "id": "00ea2f54",
   "metadata": {},
   "outputs": [
    {
     "data": {
      "text/plain": [
       "[1, 2, 3, 4, 5, 'sudh', 45.67, True]"
      ]
     },
     "execution_count": 7,
     "metadata": {},
     "output_type": "execute_result"
    }
   ],
   "source": [
    "l"
   ]
  },
  {
   "cell_type": "code",
   "execution_count": 8,
   "id": "f560dd64",
   "metadata": {},
   "outputs": [
    {
     "data": {
      "text/plain": [
       "[1, 2, 3, 4, 5, 'sudh', 45.67, True]"
      ]
     },
     "execution_count": 8,
     "metadata": {},
     "output_type": "execute_result"
    }
   ],
   "source": [
    "l[0:100]"
   ]
  },
  {
   "cell_type": "code",
   "execution_count": 9,
   "id": "30407f59",
   "metadata": {},
   "outputs": [
    {
     "data": {
      "text/plain": [
       "[1, 3, 5, 45.67]"
      ]
     },
     "execution_count": 9,
     "metadata": {},
     "output_type": "execute_result"
    }
   ],
   "source": [
    "l[0:100:2]"
   ]
  },
  {
   "cell_type": "code",
   "execution_count": 10,
   "id": "d69ae6df",
   "metadata": {},
   "outputs": [
    {
     "data": {
      "text/plain": [
       "[1, 2, 3, 4, 5, 'sudh', 45.67, True]"
      ]
     },
     "execution_count": 10,
     "metadata": {},
     "output_type": "execute_result"
    }
   ],
   "source": [
    "l"
   ]
  },
  {
   "cell_type": "code",
   "execution_count": 11,
   "id": "a2b6eee5",
   "metadata": {},
   "outputs": [
    {
     "data": {
      "text/plain": [
       "[]"
      ]
     },
     "execution_count": 11,
     "metadata": {},
     "output_type": "execute_result"
    }
   ],
   "source": [
    "l[0:8:-1]"
   ]
  },
  {
   "cell_type": "code",
   "execution_count": 12,
   "id": "16b0e806",
   "metadata": {},
   "outputs": [
    {
     "data": {
      "text/plain": [
       "[1, 2, 3]"
      ]
     },
     "execution_count": 12,
     "metadata": {},
     "output_type": "execute_result"
    }
   ],
   "source": [
    "l[:3]"
   ]
  },
  {
   "cell_type": "code",
   "execution_count": 13,
   "id": "9f08af06",
   "metadata": {},
   "outputs": [
    {
     "ename": "TypeError",
     "evalue": "can only concatenate list (not \"str\") to list",
     "output_type": "error",
     "traceback": [
      "\u001b[1;31m---------------------------------------------------------------------------\u001b[0m",
      "\u001b[1;31mTypeError\u001b[0m                                 Traceback (most recent call last)",
      "Input \u001b[1;32mIn [13]\u001b[0m, in \u001b[0;36m<cell line: 1>\u001b[1;34m()\u001b[0m\n\u001b[1;32m----> 1\u001b[0m \u001b[43ml\u001b[49m\u001b[43m \u001b[49m\u001b[38;5;241;43m+\u001b[39;49m\u001b[38;5;124;43m\"\u001b[39;49m\u001b[38;5;124;43msudh\u001b[39;49m\u001b[38;5;124;43m\"\u001b[39;49m\n",
      "\u001b[1;31mTypeError\u001b[0m: can only concatenate list (not \"str\") to list"
     ]
    }
   ],
   "source": [
    "l +\"sudh\""
   ]
  },
  {
   "cell_type": "code",
   "execution_count": 14,
   "id": "970748af",
   "metadata": {},
   "outputs": [
    {
     "data": {
      "text/plain": [
       "[1, 2, 3, 4, 5, 'sudh', 45.67, True, 'sudh']"
      ]
     },
     "execution_count": 14,
     "metadata": {},
     "output_type": "execute_result"
    }
   ],
   "source": [
    "l +[\"sudh\"]"
   ]
  },
  {
   "cell_type": "code",
   "execution_count": 15,
   "id": "46db47bf",
   "metadata": {},
   "outputs": [
    {
     "data": {
      "text/plain": [
       "[1, 2, 3, 4, 5, 'sudh', 45.67, True, 1, 2, 3, 4, 5, 'sudh', 45.67, True]"
      ]
     },
     "execution_count": 15,
     "metadata": {},
     "output_type": "execute_result"
    }
   ],
   "source": [
    "l * 2"
   ]
  },
  {
   "cell_type": "code",
   "execution_count": 16,
   "id": "c041ed37",
   "metadata": {},
   "outputs": [
    {
     "data": {
      "text/plain": [
       "[1, 2, 3, 4, 5, 'sudh', 45.67, True]"
      ]
     },
     "execution_count": 16,
     "metadata": {},
     "output_type": "execute_result"
    }
   ],
   "source": [
    "l"
   ]
  },
  {
   "cell_type": "code",
   "execution_count": 17,
   "id": "f0afd0bd",
   "metadata": {},
   "outputs": [
    {
     "data": {
      "text/plain": [
       "False"
      ]
     },
     "execution_count": 17,
     "metadata": {},
     "output_type": "execute_result"
    }
   ],
   "source": [
    "60 in l"
   ]
  },
  {
   "cell_type": "code",
   "execution_count": 18,
   "id": "5421af31",
   "metadata": {},
   "outputs": [
    {
     "data": {
      "text/plain": [
       "True"
      ]
     },
     "execution_count": 18,
     "metadata": {},
     "output_type": "execute_result"
    }
   ],
   "source": [
    "2 in l"
   ]
  },
  {
   "cell_type": "code",
   "execution_count": 19,
   "id": "c12a425e",
   "metadata": {},
   "outputs": [
    {
     "ename": "TypeError",
     "evalue": "'>' not supported between instances of 'str' and 'int'",
     "output_type": "error",
     "traceback": [
      "\u001b[1;31m---------------------------------------------------------------------------\u001b[0m",
      "\u001b[1;31mTypeError\u001b[0m                                 Traceback (most recent call last)",
      "Input \u001b[1;32mIn [19]\u001b[0m, in \u001b[0;36m<cell line: 1>\u001b[1;34m()\u001b[0m\n\u001b[1;32m----> 1\u001b[0m \u001b[38;5;28;43mmax\u001b[39;49m\u001b[43m(\u001b[49m\u001b[43ml\u001b[49m\u001b[43m)\u001b[49m\n",
      "\u001b[1;31mTypeError\u001b[0m: '>' not supported between instances of 'str' and 'int'"
     ]
    }
   ],
   "source": [
    "max(l)"
   ]
  },
  {
   "cell_type": "code",
   "execution_count": 20,
   "id": "fc4e95c3",
   "metadata": {},
   "outputs": [],
   "source": [
    "l1 = [3,4,5,6,6]"
   ]
  },
  {
   "cell_type": "code",
   "execution_count": 21,
   "id": "9255d444",
   "metadata": {},
   "outputs": [
    {
     "data": {
      "text/plain": [
       "6"
      ]
     },
     "execution_count": 21,
     "metadata": {},
     "output_type": "execute_result"
    }
   ],
   "source": [
    "max(l1)"
   ]
  },
  {
   "cell_type": "code",
   "execution_count": 22,
   "id": "d4c8166e",
   "metadata": {},
   "outputs": [
    {
     "data": {
      "text/plain": [
       "[1, 2, 3, 4, 5, 'sudh', 45.67, True]"
      ]
     },
     "execution_count": 22,
     "metadata": {},
     "output_type": "execute_result"
    }
   ],
   "source": [
    "l"
   ]
  },
  {
   "cell_type": "code",
   "execution_count": 23,
   "id": "468115e8",
   "metadata": {},
   "outputs": [],
   "source": [
    "l2 = [\"sudh\" , \"iNeuron\" , \"kumar\"]"
   ]
  },
  {
   "cell_type": "code",
   "execution_count": 24,
   "id": "a475fc02",
   "metadata": {},
   "outputs": [
    {
     "data": {
      "text/plain": [
       "'sudh'"
      ]
     },
     "execution_count": 24,
     "metadata": {},
     "output_type": "execute_result"
    }
   ],
   "source": [
    "max(l2)"
   ]
  },
  {
   "cell_type": "code",
   "execution_count": 25,
   "id": "cc2afb8d",
   "metadata": {},
   "outputs": [
    {
     "data": {
      "text/plain": [
       "3"
      ]
     },
     "execution_count": 25,
     "metadata": {},
     "output_type": "execute_result"
    }
   ],
   "source": [
    "min(l1)"
   ]
  },
  {
   "cell_type": "code",
   "execution_count": 26,
   "id": "ebbdd16e",
   "metadata": {},
   "outputs": [
    {
     "data": {
      "text/plain": [
       "'iNeuron'"
      ]
     },
     "execution_count": 26,
     "metadata": {},
     "output_type": "execute_result"
    }
   ],
   "source": [
    "min(l2)"
   ]
  },
  {
   "cell_type": "code",
   "execution_count": null,
   "id": "a3314354",
   "metadata": {},
   "outputs": [],
   "source": [
    "l = [1,2,3,4,5, \"sudh\" , 45.67, True]"
   ]
  },
  {
   "cell_type": "code",
   "execution_count": null,
   "id": "ea6ee579",
   "metadata": {},
   "outputs": [],
   "source": [
    "l"
   ]
  },
  {
   "cell_type": "markdown",
   "id": "a567f356",
   "metadata": {},
   "source": [
    "# append operations= append is nothing but at any point of time append is going ti is append the data set at the very very last indexex"
   ]
  },
  {
   "cell_type": "code",
   "execution_count": 27,
   "id": "6a041fbd",
   "metadata": {},
   "outputs": [],
   "source": [
    "l.append(\"kumar\")"
   ]
  },
  {
   "cell_type": "code",
   "execution_count": 28,
   "id": "c22b206d",
   "metadata": {},
   "outputs": [
    {
     "data": {
      "text/plain": [
       "[1, 2, 3, 4, 5, 'sudh', 45.67, True, 'kumar']"
      ]
     },
     "execution_count": 28,
     "metadata": {},
     "output_type": "execute_result"
    }
   ],
   "source": [
    "l"
   ]
  },
  {
   "cell_type": "markdown",
   "id": "7841c083",
   "metadata": {},
   "source": [
    "# append operation doing a list"
   ]
  },
  {
   "cell_type": "code",
   "execution_count": 29,
   "id": "26b68477",
   "metadata": {},
   "outputs": [],
   "source": [
    "l.append([1,2,3,4])"
   ]
  },
  {
   "cell_type": "code",
   "execution_count": 30,
   "id": "29cf99a5",
   "metadata": {},
   "outputs": [
    {
     "data": {
      "text/plain": [
       "[1, 2, 3, 4, 5, 'sudh', 45.67, True, 'kumar', [1, 2, 3, 4]]"
      ]
     },
     "execution_count": 30,
     "metadata": {},
     "output_type": "execute_result"
    }
   ],
   "source": [
    "l"
   ]
  },
  {
   "cell_type": "markdown",
   "id": "32c84b5e",
   "metadata": {},
   "source": [
    "# pop operation=pop is going to remove a data\n",
    "pop is always used to remove any kind of a data very very last indexex (remove all of these indexex)"
   ]
  },
  {
   "cell_type": "code",
   "execution_count": 31,
   "id": "6e9d2ebb",
   "metadata": {},
   "outputs": [
    {
     "data": {
      "text/plain": [
       "1"
      ]
     },
     "execution_count": 31,
     "metadata": {},
     "output_type": "execute_result"
    }
   ],
   "source": [
    "l.pop(0)"
   ]
  },
  {
   "cell_type": "code",
   "execution_count": 32,
   "id": "3cc57a2d",
   "metadata": {},
   "outputs": [
    {
     "data": {
      "text/plain": [
       "[2, 3, 4, 5, 'sudh', 45.67, True, 'kumar', [1, 2, 3, 4]]"
      ]
     },
     "execution_count": 32,
     "metadata": {},
     "output_type": "execute_result"
    }
   ],
   "source": [
    "l"
   ]
  },
  {
   "cell_type": "code",
   "execution_count": null,
   "id": "2e8b0da1",
   "metadata": {},
   "outputs": [],
   "source": [
    "Signature: l.pop(index=-1, /)\n",
    "Docstring:\n",
    "Remove and return item at index (default last).\n",
    "\n",
    "Raises IndexError if list is empty or index is out of range.\n",
    "Type:      builtin_function_or_method"
   ]
  },
  {
   "cell_type": "code",
   "execution_count": 33,
   "id": "c5104ee3",
   "metadata": {},
   "outputs": [
    {
     "data": {
      "text/plain": [
       "[1, 2, 3, 4]"
      ]
     },
     "execution_count": 33,
     "metadata": {},
     "output_type": "execute_result"
    }
   ],
   "source": [
    "l.pop()"
   ]
  },
  {
   "cell_type": "code",
   "execution_count": 34,
   "id": "13a763a0",
   "metadata": {},
   "outputs": [
    {
     "data": {
      "text/plain": [
       "[2, 3, 4, 5, 'sudh', 45.67, True, 'kumar']"
      ]
     },
     "execution_count": 34,
     "metadata": {},
     "output_type": "execute_result"
    }
   ],
   "source": [
    "l"
   ]
  },
  {
   "cell_type": "code",
   "execution_count": 35,
   "id": "6164c160",
   "metadata": {},
   "outputs": [],
   "source": [
    "l.reverse()"
   ]
  },
  {
   "cell_type": "code",
   "execution_count": 36,
   "id": "877f518e",
   "metadata": {},
   "outputs": [
    {
     "data": {
      "text/plain": [
       "['kumar', True, 45.67, 'sudh', 5, 4, 3, 2]"
      ]
     },
     "execution_count": 36,
     "metadata": {},
     "output_type": "execute_result"
    }
   ],
   "source": [
    "l"
   ]
  },
  {
   "cell_type": "code",
   "execution_count": 37,
   "id": "8478b5b4",
   "metadata": {},
   "outputs": [
    {
     "data": {
      "text/plain": [
       "[2, 3, 4, 5, 'sudh', 45.67, True, 'kumar']"
      ]
     },
     "execution_count": 37,
     "metadata": {},
     "output_type": "execute_result"
    }
   ],
   "source": [
    "l[::-1]"
   ]
  },
  {
   "cell_type": "code",
   "execution_count": 38,
   "id": "2b0b7bc6",
   "metadata": {},
   "outputs": [],
   "source": [
    "l.reverse()"
   ]
  },
  {
   "cell_type": "code",
   "execution_count": 39,
   "id": "d9477bbf",
   "metadata": {},
   "outputs": [],
   "source": [
    "l=[2, 3, 4, 5, 'sudh', 45.67, True, 'kumar']"
   ]
  },
  {
   "cell_type": "code",
   "execution_count": 40,
   "id": "383a44bb",
   "metadata": {},
   "outputs": [
    {
     "data": {
      "text/plain": [
       "[2, 3, 4, 5, 'sudh', 45.67, True, 'kumar']"
      ]
     },
     "execution_count": 40,
     "metadata": {},
     "output_type": "execute_result"
    }
   ],
   "source": [
    "l"
   ]
  },
  {
   "cell_type": "code",
   "execution_count": 41,
   "id": "fff5032d",
   "metadata": {},
   "outputs": [],
   "source": [
    "l.append([1,2,3,4])"
   ]
  },
  {
   "cell_type": "code",
   "execution_count": 42,
   "id": "3b84fa5c",
   "metadata": {},
   "outputs": [
    {
     "data": {
      "text/plain": [
       "[2, 3, 4, 5, 'sudh', 45.67, True, 'kumar', [1, 2, 3, 4]]"
      ]
     },
     "execution_count": 42,
     "metadata": {},
     "output_type": "execute_result"
    }
   ],
   "source": [
    "l"
   ]
  },
  {
   "cell_type": "code",
   "execution_count": 43,
   "id": "6339e07f",
   "metadata": {},
   "outputs": [
    {
     "ename": "TypeError",
     "evalue": "'<' not supported between instances of 'str' and 'int'",
     "output_type": "error",
     "traceback": [
      "\u001b[1;31m---------------------------------------------------------------------------\u001b[0m",
      "\u001b[1;31mTypeError\u001b[0m                                 Traceback (most recent call last)",
      "Input \u001b[1;32mIn [43]\u001b[0m, in \u001b[0;36m<cell line: 1>\u001b[1;34m()\u001b[0m\n\u001b[1;32m----> 1\u001b[0m \u001b[43ml\u001b[49m\u001b[38;5;241;43m.\u001b[39;49m\u001b[43msort\u001b[49m\u001b[43m(\u001b[49m\u001b[43m)\u001b[49m\n",
      "\u001b[1;31mTypeError\u001b[0m: '<' not supported between instances of 'str' and 'int'"
     ]
    }
   ],
   "source": [
    "l.sort()"
   ]
  },
  {
   "cell_type": "code",
   "execution_count": 44,
   "id": "5b68f8da",
   "metadata": {},
   "outputs": [
    {
     "data": {
      "text/plain": [
       "[2, 3, 4, 5, 'sudh', 45.67, True, 'kumar', [1, 2, 3, 4]]"
      ]
     },
     "execution_count": 44,
     "metadata": {},
     "output_type": "execute_result"
    }
   ],
   "source": [
    "l"
   ]
  },
  {
   "cell_type": "code",
   "execution_count": 45,
   "id": "fd637dc9",
   "metadata": {},
   "outputs": [],
   "source": [
    "l=[2, 3, 4, 5, 'sudh', 45.67, True, 'kumar', [1, 2, 3, 4]]"
   ]
  },
  {
   "cell_type": "code",
   "execution_count": 46,
   "id": "66e1ed9a",
   "metadata": {},
   "outputs": [
    {
     "data": {
      "text/plain": [
       "[2, 3, 4, 5, 'sudh', 45.67, True, 'kumar', [1, 2, 3, 4]]"
      ]
     },
     "execution_count": 46,
     "metadata": {},
     "output_type": "execute_result"
    }
   ],
   "source": [
    "l"
   ]
  },
  {
   "cell_type": "code",
   "execution_count": 47,
   "id": "94d81c7f",
   "metadata": {},
   "outputs": [
    {
     "data": {
      "text/plain": [
       "[3, 4, 5, 6, 6]"
      ]
     },
     "execution_count": 47,
     "metadata": {},
     "output_type": "execute_result"
    }
   ],
   "source": [
    "l1"
   ]
  },
  {
   "cell_type": "code",
   "execution_count": 48,
   "id": "b29b6435",
   "metadata": {},
   "outputs": [],
   "source": [
    "l1.sort()"
   ]
  },
  {
   "cell_type": "code",
   "execution_count": 49,
   "id": "3e5beed2",
   "metadata": {},
   "outputs": [
    {
     "data": {
      "text/plain": [
       "[3, 4, 5, 6, 6]"
      ]
     },
     "execution_count": 49,
     "metadata": {},
     "output_type": "execute_result"
    }
   ],
   "source": [
    "l1"
   ]
  },
  {
   "cell_type": "code",
   "execution_count": 52,
   "id": "25192347",
   "metadata": {},
   "outputs": [],
   "source": [
    "l3 = [8,98,34,23,1,0]"
   ]
  },
  {
   "cell_type": "code",
   "execution_count": null,
   "id": "357f70d0",
   "metadata": {},
   "outputs": [],
   "source": [
    "Signature: l3.sort(*, key=None, reverse=False)\n",
    "Docstring:\n",
    "Sort the list in ascending order and return None.\n",
    "\n",
    "The sort is in-place (i.e. the list itself is modified) and stable (i.e. the\n",
    "order of two equal elements is maintained).\n",
    "\n",
    "If a key function is given, apply it once to each list item and sort them,\n",
    "ascending or descending, according to their function values.\n",
    "\n",
    "The reverse flag can be set to sort in descending order.\n",
    "Type:      builtin_function_or_method"
   ]
  },
  {
   "cell_type": "code",
   "execution_count": 53,
   "id": "cd46a3b4",
   "metadata": {},
   "outputs": [],
   "source": [
    "l3.sort()"
   ]
  },
  {
   "cell_type": "code",
   "execution_count": 54,
   "id": "4aafa7db",
   "metadata": {},
   "outputs": [
    {
     "data": {
      "text/plain": [
       "[0, 1, 8, 23, 34, 98]"
      ]
     },
     "execution_count": 54,
     "metadata": {},
     "output_type": "execute_result"
    }
   ],
   "source": [
    "l3"
   ]
  },
  {
   "cell_type": "code",
   "execution_count": 55,
   "id": "389cf73d",
   "metadata": {},
   "outputs": [],
   "source": [
    "l3.sort(reverse= True )"
   ]
  },
  {
   "cell_type": "code",
   "execution_count": 56,
   "id": "15a59929",
   "metadata": {},
   "outputs": [
    {
     "data": {
      "text/plain": [
       "[98, 34, 23, 8, 1, 0]"
      ]
     },
     "execution_count": 56,
     "metadata": {},
     "output_type": "execute_result"
    }
   ],
   "source": [
    "l3"
   ]
  },
  {
   "cell_type": "code",
   "execution_count": 57,
   "id": "c8b6df6a",
   "metadata": {},
   "outputs": [],
   "source": [
    "l1 =[2,3,4]\n",
    "l2 =[6,7,8]\n",
    "l3 =[3,2,4]"
   ]
  },
  {
   "cell_type": "code",
   "execution_count": 58,
   "id": "54ff2c9a",
   "metadata": {},
   "outputs": [],
   "source": [
    "l4 = [l1,l2,l3]"
   ]
  },
  {
   "cell_type": "code",
   "execution_count": 59,
   "id": "bb60f05e",
   "metadata": {},
   "outputs": [
    {
     "data": {
      "text/plain": [
       "[[2, 3, 4], [6, 7, 8], [3, 2, 4]]"
      ]
     },
     "execution_count": 59,
     "metadata": {},
     "output_type": "execute_result"
    }
   ],
   "source": [
    "l4"
   ]
  },
  {
   "cell_type": "code",
   "execution_count": 60,
   "id": "c4c637be",
   "metadata": {},
   "outputs": [
    {
     "data": {
      "text/plain": [
       "[[2, 3, 4], [6, 7, 8], [3, 2, 4]]"
      ]
     },
     "execution_count": 60,
     "metadata": {},
     "output_type": "execute_result"
    }
   ],
   "source": [
    "l4"
   ]
  },
  {
   "cell_type": "markdown",
   "id": "b6e8a7d2",
   "metadata": {},
   "source": [
    "# extract 3 list 2 out of entire this list"
   ]
  },
  {
   "cell_type": "code",
   "execution_count": 61,
   "id": "0bdbf92f",
   "metadata": {},
   "outputs": [
    {
     "data": {
      "text/plain": [
       "[3, 2, 4]"
      ]
     },
     "execution_count": 61,
     "metadata": {},
     "output_type": "execute_result"
    }
   ],
   "source": [
    "l4[2]"
   ]
  },
  {
   "cell_type": "code",
   "execution_count": 62,
   "id": "f2595b12",
   "metadata": {},
   "outputs": [
    {
     "data": {
      "text/plain": [
       "2"
      ]
     },
     "execution_count": 62,
     "metadata": {},
     "output_type": "execute_result"
    }
   ],
   "source": [
    "l4[2][1]"
   ]
  },
  {
   "cell_type": "code",
   "execution_count": 63,
   "id": "4cfbd515",
   "metadata": {},
   "outputs": [
    {
     "data": {
      "text/plain": [
       "[2, 3, 4, 5, 'sudh', 45.67, True, 'kumar', [1, 2, 3, 4]]"
      ]
     },
     "execution_count": 63,
     "metadata": {},
     "output_type": "execute_result"
    }
   ],
   "source": [
    "l"
   ]
  },
  {
   "cell_type": "markdown",
   "id": "4e9e8e97",
   "metadata": {},
   "source": [
    "# count function is available case on a string"
   ]
  },
  {
   "cell_type": "code",
   "execution_count": 64,
   "id": "2d104460",
   "metadata": {},
   "outputs": [
    {
     "data": {
      "text/plain": [
       "1"
      ]
     },
     "execution_count": 64,
     "metadata": {},
     "output_type": "execute_result"
    }
   ],
   "source": [
    "l.count(2)"
   ]
  },
  {
   "cell_type": "code",
   "execution_count": 65,
   "id": "7753db56",
   "metadata": {},
   "outputs": [],
   "source": [
    "l5 = [3,4,5,3,3,3]"
   ]
  },
  {
   "cell_type": "code",
   "execution_count": 66,
   "id": "aea0833b",
   "metadata": {},
   "outputs": [
    {
     "data": {
      "text/plain": [
       "4"
      ]
     },
     "execution_count": 66,
     "metadata": {},
     "output_type": "execute_result"
    }
   ],
   "source": [
    "l5.count(3)"
   ]
  },
  {
   "cell_type": "code",
   "execution_count": 67,
   "id": "29b7447d",
   "metadata": {},
   "outputs": [
    {
     "data": {
      "text/plain": [
       "0"
      ]
     },
     "execution_count": 67,
     "metadata": {},
     "output_type": "execute_result"
    }
   ],
   "source": [
    "l1=[1,2,3]\n",
    "l2=[4,5,6]\n",
    "l3=[7,8,9]\n",
    "\n",
    "l4=[l1,l2,l3]\n",
    "\n",
    "l4.count(3)"
   ]
  },
  {
   "cell_type": "code",
   "execution_count": 68,
   "id": "7d8f9f73",
   "metadata": {},
   "outputs": [
    {
     "data": {
      "text/plain": [
       "[[1, 2, 3], [4, 5, 6], [7, 8, 9]]"
      ]
     },
     "execution_count": 68,
     "metadata": {},
     "output_type": "execute_result"
    }
   ],
   "source": [
    "l4"
   ]
  },
  {
   "cell_type": "code",
   "execution_count": 69,
   "id": "0ca4b616",
   "metadata": {},
   "outputs": [
    {
     "data": {
      "text/plain": [
       "0"
      ]
     },
     "execution_count": 69,
     "metadata": {},
     "output_type": "execute_result"
    }
   ],
   "source": [
    "l4.count(3)"
   ]
  },
  {
   "cell_type": "code",
   "execution_count": 70,
   "id": "7b9adbee",
   "metadata": {},
   "outputs": [],
   "source": [
    "l=[2, 3, 4, 5, 'sudh', 45.67, True, 'kumar', [1, 2, 3, 4]]"
   ]
  },
  {
   "cell_type": "code",
   "execution_count": 71,
   "id": "8114e088",
   "metadata": {},
   "outputs": [
    {
     "data": {
      "text/plain": [
       "[2, 3, 4, 5, 'sudh', 45.67, True, 'kumar', [1, 2, 3, 4]]"
      ]
     },
     "execution_count": 71,
     "metadata": {},
     "output_type": "execute_result"
    }
   ],
   "source": [
    "l"
   ]
  },
  {
   "cell_type": "code",
   "execution_count": 72,
   "id": "6a5ca2fb",
   "metadata": {},
   "outputs": [],
   "source": [
    "l.append(\"iNeuron\")"
   ]
  },
  {
   "cell_type": "code",
   "execution_count": 73,
   "id": "cc2d5820",
   "metadata": {},
   "outputs": [
    {
     "data": {
      "text/plain": [
       "[2, 3, 4, 5, 'sudh', 45.67, True, 'kumar', [1, 2, 3, 4], 'iNeuron']"
      ]
     },
     "execution_count": 73,
     "metadata": {},
     "output_type": "execute_result"
    }
   ],
   "source": [
    "l"
   ]
  },
  {
   "cell_type": "code",
   "execution_count": 74,
   "id": "eb515baf",
   "metadata": {},
   "outputs": [],
   "source": [
    "l=[2, 3, 4, 5, 'sudh', 45.67, True, 'kumar', [1, 2, 3, 4], 'iNeuron']"
   ]
  },
  {
   "cell_type": "code",
   "execution_count": 75,
   "id": "d6d979d3",
   "metadata": {},
   "outputs": [
    {
     "data": {
      "text/plain": [
       "[2, 3, 4, 5, 'sudh', 45.67, True, 'kumar', [1, 2, 3, 4], 'iNeuron']"
      ]
     },
     "execution_count": 75,
     "metadata": {},
     "output_type": "execute_result"
    }
   ],
   "source": [
    "l"
   ]
  },
  {
   "cell_type": "code",
   "execution_count": 76,
   "id": "6ddea506",
   "metadata": {},
   "outputs": [],
   "source": [
    "l.append([4,56 , \"sudh\"])"
   ]
  },
  {
   "cell_type": "code",
   "execution_count": 77,
   "id": "8596d7bd",
   "metadata": {},
   "outputs": [
    {
     "data": {
      "text/plain": [
       "[2,\n",
       " 3,\n",
       " 4,\n",
       " 5,\n",
       " 'sudh',\n",
       " 45.67,\n",
       " True,\n",
       " 'kumar',\n",
       " [1, 2, 3, 4],\n",
       " 'iNeuron',\n",
       " [4, 56, 'sudh']]"
      ]
     },
     "execution_count": 77,
     "metadata": {},
     "output_type": "execute_result"
    }
   ],
   "source": [
    "l"
   ]
  },
  {
   "cell_type": "markdown",
   "id": "7f683349",
   "metadata": {},
   "source": [
    "# extend operation"
   ]
  },
  {
   "cell_type": "code",
   "execution_count": 78,
   "id": "8be907b7",
   "metadata": {},
   "outputs": [],
   "source": [
    "l.extend(\"sudh\")"
   ]
  },
  {
   "cell_type": "code",
   "execution_count": 79,
   "id": "1fea1857",
   "metadata": {},
   "outputs": [
    {
     "data": {
      "text/plain": [
       "[2,\n",
       " 3,\n",
       " 4,\n",
       " 5,\n",
       " 'sudh',\n",
       " 45.67,\n",
       " True,\n",
       " 'kumar',\n",
       " [1, 2, 3, 4],\n",
       " 'iNeuron',\n",
       " [4, 56, 'sudh'],\n",
       " 's',\n",
       " 'u',\n",
       " 'd',\n",
       " 'h']"
      ]
     },
     "execution_count": 79,
     "metadata": {},
     "output_type": "execute_result"
    }
   ],
   "source": [
    "l"
   ]
  },
  {
   "cell_type": "code",
   "execution_count": 80,
   "id": "4e78d569",
   "metadata": {},
   "outputs": [],
   "source": [
    "l6 = [1,2,3]"
   ]
  },
  {
   "cell_type": "code",
   "execution_count": 81,
   "id": "eb67d7ba",
   "metadata": {},
   "outputs": [],
   "source": [
    "l6.append([4,5,6])"
   ]
  },
  {
   "cell_type": "code",
   "execution_count": 82,
   "id": "d9e981e4",
   "metadata": {},
   "outputs": [
    {
     "data": {
      "text/plain": [
       "[1, 2, 3, [4, 5, 6]]"
      ]
     },
     "execution_count": 82,
     "metadata": {},
     "output_type": "execute_result"
    }
   ],
   "source": [
    "l6"
   ]
  },
  {
   "cell_type": "code",
   "execution_count": 83,
   "id": "52728f7e",
   "metadata": {},
   "outputs": [],
   "source": [
    "l6.append(\"sudh\")"
   ]
  },
  {
   "cell_type": "code",
   "execution_count": 84,
   "id": "afd40c1b",
   "metadata": {},
   "outputs": [
    {
     "data": {
      "text/plain": [
       "[1, 2, 3, [4, 5, 6], 'sudh']"
      ]
     },
     "execution_count": 84,
     "metadata": {},
     "output_type": "execute_result"
    }
   ],
   "source": [
    "l6"
   ]
  },
  {
   "cell_type": "code",
   "execution_count": 85,
   "id": "a561e86b",
   "metadata": {},
   "outputs": [
    {
     "ename": "AttributeError",
     "evalue": "'list' object has no attribute 'extendx'",
     "output_type": "error",
     "traceback": [
      "\u001b[1;31m---------------------------------------------------------------------------\u001b[0m",
      "\u001b[1;31mAttributeError\u001b[0m                            Traceback (most recent call last)",
      "Input \u001b[1;32mIn [85]\u001b[0m, in \u001b[0;36m<cell line: 1>\u001b[1;34m()\u001b[0m\n\u001b[1;32m----> 1\u001b[0m \u001b[43ml6\u001b[49m\u001b[38;5;241;43m.\u001b[39;49m\u001b[43mextendx\u001b[49m(\u001b[38;5;241m45\u001b[39m)\n",
      "\u001b[1;31mAttributeError\u001b[0m: 'list' object has no attribute 'extendx'"
     ]
    }
   ],
   "source": [
    "l6.extendx(45)"
   ]
  },
  {
   "cell_type": "code",
   "execution_count": 86,
   "id": "19fce634",
   "metadata": {},
   "outputs": [],
   "source": [
    "l6.append(45)"
   ]
  },
  {
   "cell_type": "code",
   "execution_count": 87,
   "id": "ee3c412f",
   "metadata": {},
   "outputs": [
    {
     "data": {
      "text/plain": [
       "[1, 2, 3, [4, 5, 6], 'sudh', 45]"
      ]
     },
     "execution_count": 87,
     "metadata": {},
     "output_type": "execute_result"
    }
   ],
   "source": [
    "l6"
   ]
  },
  {
   "cell_type": "code",
   "execution_count": 88,
   "id": "6e4323cd",
   "metadata": {},
   "outputs": [],
   "source": [
    "l6.extend([56,34,21])"
   ]
  },
  {
   "cell_type": "code",
   "execution_count": 89,
   "id": "47b60f2f",
   "metadata": {},
   "outputs": [
    {
     "data": {
      "text/plain": [
       "[1, 2, 3, [4, 5, 6], 'sudh', 45, 56, 34, 21]"
      ]
     },
     "execution_count": 89,
     "metadata": {},
     "output_type": "execute_result"
    }
   ],
   "source": [
    "l6"
   ]
  },
  {
   "cell_type": "markdown",
   "id": "af34aa25",
   "metadata": {},
   "source": [
    "# string also stores a data set is index wise "
   ]
  },
  {
   "cell_type": "code",
   "execution_count": 90,
   "id": "fa9a2705",
   "metadata": {},
   "outputs": [],
   "source": [
    "l6=[1, 2, 3, [4, 5, 6], 'sudh', 45, 56, 34, 21]"
   ]
  },
  {
   "cell_type": "code",
   "execution_count": 91,
   "id": "431d2db8",
   "metadata": {},
   "outputs": [],
   "source": [
    "l6.extend(\"sudh\")"
   ]
  },
  {
   "cell_type": "code",
   "execution_count": 92,
   "id": "2bb88165",
   "metadata": {},
   "outputs": [
    {
     "data": {
      "text/plain": [
       "[1, 2, 3, [4, 5, 6], 'sudh', 45, 56, 34, 21, 's', 'u', 'd', 'h']"
      ]
     },
     "execution_count": 92,
     "metadata": {},
     "output_type": "execute_result"
    }
   ],
   "source": [
    "l6"
   ]
  },
  {
   "cell_type": "code",
   "execution_count": 93,
   "id": "ce44c192",
   "metadata": {},
   "outputs": [
    {
     "data": {
      "text/plain": [
       "0"
      ]
     },
     "execution_count": 93,
     "metadata": {},
     "output_type": "execute_result"
    }
   ],
   "source": [
    "l6.index(1)"
   ]
  },
  {
   "cell_type": "code",
   "execution_count": 94,
   "id": "ec0d43dd",
   "metadata": {},
   "outputs": [],
   "source": [
    "l7 = [1,2,3,4,55,6,6,7]"
   ]
  },
  {
   "cell_type": "code",
   "execution_count": 95,
   "id": "60c6a587",
   "metadata": {},
   "outputs": [
    {
     "data": {
      "text/plain": [
       "5"
      ]
     },
     "execution_count": 95,
     "metadata": {},
     "output_type": "execute_result"
    }
   ],
   "source": [
    "l7.index(6)"
   ]
  },
  {
   "cell_type": "markdown",
   "id": "9fec0899",
   "metadata": {},
   "source": [
    "# append & insert operation difference="
   ]
  },
  {
   "cell_type": "code",
   "execution_count": 96,
   "id": "4d23b817",
   "metadata": {},
   "outputs": [],
   "source": [
    "l = [1,2,3,4,5]"
   ]
  },
  {
   "cell_type": "code",
   "execution_count": 97,
   "id": "136350d0",
   "metadata": {},
   "outputs": [],
   "source": [
    "l.append(45)"
   ]
  },
  {
   "cell_type": "code",
   "execution_count": 98,
   "id": "9c2cee32",
   "metadata": {},
   "outputs": [
    {
     "data": {
      "text/plain": [
       "[1, 2, 3, 4, 5, 45]"
      ]
     },
     "execution_count": 98,
     "metadata": {},
     "output_type": "execute_result"
    }
   ],
   "source": [
    "l"
   ]
  },
  {
   "cell_type": "code",
   "execution_count": 99,
   "id": "4060fd69",
   "metadata": {},
   "outputs": [],
   "source": [
    "l.insert(1 , [1,2,34])"
   ]
  },
  {
   "cell_type": "code",
   "execution_count": 100,
   "id": "249ddb49",
   "metadata": {},
   "outputs": [
    {
     "data": {
      "text/plain": [
       "[1, [1, 2, 34], 2, 3, 4, 5, 45]"
      ]
     },
     "execution_count": 100,
     "metadata": {},
     "output_type": "execute_result"
    }
   ],
   "source": [
    "l"
   ]
  },
  {
   "cell_type": "code",
   "execution_count": 101,
   "id": "2047c202",
   "metadata": {},
   "outputs": [],
   "source": [
    "l.insert(5,\"sudh\")"
   ]
  },
  {
   "cell_type": "code",
   "execution_count": 102,
   "id": "b9b4cc89",
   "metadata": {},
   "outputs": [
    {
     "data": {
      "text/plain": [
       "[1, [1, 2, 34], 2, 3, 4, 'sudh', 5, 45]"
      ]
     },
     "execution_count": 102,
     "metadata": {},
     "output_type": "execute_result"
    }
   ],
   "source": [
    "l"
   ]
  },
  {
   "cell_type": "code",
   "execution_count": 103,
   "id": "1885f1ed",
   "metadata": {},
   "outputs": [
    {
     "data": {
      "text/plain": [
       "[1, [1, 2, 34], 2, 3, 4, 'sudh', 5, 45]"
      ]
     },
     "execution_count": 103,
     "metadata": {},
     "output_type": "execute_result"
    }
   ],
   "source": [
    "l"
   ]
  },
  {
   "cell_type": "code",
   "execution_count": 104,
   "id": "2f9e0bf5",
   "metadata": {},
   "outputs": [
    {
     "data": {
      "text/plain": [
       "45"
      ]
     },
     "execution_count": 104,
     "metadata": {},
     "output_type": "execute_result"
    }
   ],
   "source": [
    "l.pop()"
   ]
  },
  {
   "cell_type": "code",
   "execution_count": 105,
   "id": "ba6c710b",
   "metadata": {},
   "outputs": [
    {
     "data": {
      "text/plain": [
       "[1, [1, 2, 34], 2, 3, 4, 'sudh', 5]"
      ]
     },
     "execution_count": 105,
     "metadata": {},
     "output_type": "execute_result"
    }
   ],
   "source": [
    "l"
   ]
  },
  {
   "cell_type": "code",
   "execution_count": 106,
   "id": "4e1b8c2b",
   "metadata": {},
   "outputs": [
    {
     "data": {
      "text/plain": [
       "2"
      ]
     },
     "execution_count": 106,
     "metadata": {},
     "output_type": "execute_result"
    }
   ],
   "source": [
    "l.pop(2)"
   ]
  },
  {
   "cell_type": "code",
   "execution_count": 107,
   "id": "d6961697",
   "metadata": {},
   "outputs": [
    {
     "data": {
      "text/plain": [
       "[1, [1, 2, 34], 3, 4, 'sudh', 5]"
      ]
     },
     "execution_count": 107,
     "metadata": {},
     "output_type": "execute_result"
    }
   ],
   "source": [
    "l"
   ]
  },
  {
   "cell_type": "code",
   "execution_count": 108,
   "id": "9ad6014e",
   "metadata": {},
   "outputs": [
    {
     "ename": "ValueError",
     "evalue": "list.remove(x): x not in list",
     "output_type": "error",
     "traceback": [
      "\u001b[1;31m---------------------------------------------------------------------------\u001b[0m",
      "\u001b[1;31mValueError\u001b[0m                                Traceback (most recent call last)",
      "Input \u001b[1;32mIn [108]\u001b[0m, in \u001b[0;36m<cell line: 1>\u001b[1;34m()\u001b[0m\n\u001b[1;32m----> 1\u001b[0m \u001b[43ml\u001b[49m\u001b[38;5;241;43m.\u001b[39;49m\u001b[43mremove\u001b[49m\u001b[43m(\u001b[49m\u001b[38;5;241;43m100\u001b[39;49m\u001b[43m)\u001b[49m\n",
      "\u001b[1;31mValueError\u001b[0m: list.remove(x): x not in list"
     ]
    }
   ],
   "source": [
    "l.remove(100)"
   ]
  },
  {
   "cell_type": "code",
   "execution_count": 109,
   "id": "7556eebd",
   "metadata": {},
   "outputs": [],
   "source": [
    "l.remove(4)"
   ]
  },
  {
   "cell_type": "code",
   "execution_count": 110,
   "id": "6a5d9e2f",
   "metadata": {},
   "outputs": [
    {
     "data": {
      "text/plain": [
       "[1, [1, 2, 34], 3, 'sudh', 5]"
      ]
     },
     "execution_count": 110,
     "metadata": {},
     "output_type": "execute_result"
    }
   ],
   "source": [
    "l"
   ]
  },
  {
   "cell_type": "code",
   "execution_count": 111,
   "id": "14ddb291",
   "metadata": {},
   "outputs": [],
   "source": [
    "l=[1, [1, 2, 34], 3, 'sudh', 5]"
   ]
  },
  {
   "cell_type": "code",
   "execution_count": 112,
   "id": "ce4fe2a9",
   "metadata": {},
   "outputs": [
    {
     "data": {
      "text/plain": [
       "[1, [1, 2, 34], 3, 'sudh', 5]"
      ]
     },
     "execution_count": 112,
     "metadata": {},
     "output_type": "execute_result"
    }
   ],
   "source": [
    "l"
   ]
  },
  {
   "cell_type": "code",
   "execution_count": 113,
   "id": "7fc88dec",
   "metadata": {},
   "outputs": [],
   "source": [
    "l.remove(3)"
   ]
  },
  {
   "cell_type": "code",
   "execution_count": 114,
   "id": "98019ae9",
   "metadata": {},
   "outputs": [
    {
     "data": {
      "text/plain": [
       "[1, [1, 2, 34], 'sudh', 5]"
      ]
     },
     "execution_count": 114,
     "metadata": {},
     "output_type": "execute_result"
    }
   ],
   "source": [
    "l"
   ]
  },
  {
   "cell_type": "code",
   "execution_count": 115,
   "id": "30b810f1",
   "metadata": {},
   "outputs": [],
   "source": [
    "l = [1,2,3,4]"
   ]
  },
  {
   "cell_type": "code",
   "execution_count": 116,
   "id": "e711f4ec",
   "metadata": {},
   "outputs": [
    {
     "data": {
      "text/plain": [
       "3"
      ]
     },
     "execution_count": 116,
     "metadata": {},
     "output_type": "execute_result"
    }
   ],
   "source": [
    "l[2]"
   ]
  },
  {
   "cell_type": "markdown",
   "id": "fd84e015",
   "metadata": {},
   "source": [
    "# replace operation"
   ]
  },
  {
   "cell_type": "code",
   "execution_count": 117,
   "id": "f68a06a9",
   "metadata": {},
   "outputs": [],
   "source": [
    "l[2] =\"sudh\""
   ]
  },
  {
   "cell_type": "code",
   "execution_count": 118,
   "id": "7a6c7c6c",
   "metadata": {},
   "outputs": [
    {
     "data": {
      "text/plain": [
       "[1, 2, 'sudh', 4]"
      ]
     },
     "execution_count": 118,
     "metadata": {},
     "output_type": "execute_result"
    }
   ],
   "source": [
    "l"
   ]
  },
  {
   "cell_type": "code",
   "execution_count": 119,
   "id": "847d8150",
   "metadata": {},
   "outputs": [],
   "source": [
    "s = \"iNeuron\""
   ]
  },
  {
   "cell_type": "code",
   "execution_count": 120,
   "id": "2b38728b",
   "metadata": {},
   "outputs": [
    {
     "data": {
      "text/plain": [
       "'e'"
      ]
     },
     "execution_count": 120,
     "metadata": {},
     "output_type": "execute_result"
    }
   ],
   "source": [
    "s[2]"
   ]
  },
  {
   "cell_type": "code",
   "execution_count": 121,
   "id": "799ebb88",
   "metadata": {},
   "outputs": [
    {
     "ename": "TypeError",
     "evalue": "'str' object does not support item assignment",
     "output_type": "error",
     "traceback": [
      "\u001b[1;31m---------------------------------------------------------------------------\u001b[0m",
      "\u001b[1;31mTypeError\u001b[0m                                 Traceback (most recent call last)",
      "Input \u001b[1;32mIn [121]\u001b[0m, in \u001b[0;36m<cell line: 1>\u001b[1;34m()\u001b[0m\n\u001b[1;32m----> 1\u001b[0m s[\u001b[38;5;241m2\u001b[39m] \u001b[38;5;241m=\u001b[39m \u001b[38;5;124m'\u001b[39m\u001b[38;5;124mz\u001b[39m\u001b[38;5;124m'\u001b[39m\n",
      "\u001b[1;31mTypeError\u001b[0m: 'str' object does not support item assignment"
     ]
    }
   ],
   "source": [
    "s[2] = 'z'"
   ]
  },
  {
   "cell_type": "code",
   "execution_count": null,
   "id": "681e6073",
   "metadata": {},
   "outputs": [],
   "source": [
    "string operation are not muatable it is inmuatable\n",
    "muatable and inmutability\n",
    "muatability=muatability is concept where you will be able to mutate an element you will be able to do item or reassignment operation in between a itterables.\n",
    "inmuatability=that you will not able to do item reassignment operation inside the itterable.\n",
    "string are inmuatable\n",
    "list are muatable."
   ]
  },
  {
   "cell_type": "markdown",
   "id": "901b0d99",
   "metadata": {},
   "source": [
    "# tuples (inmuatable elements)"
   ]
  },
  {
   "cell_type": "markdown",
   "id": "c735a91b",
   "metadata": {},
   "source": [
    "# Tuple. Tuples are used to store multiple items in a single variable. Tuple is one of 4 built-in data types in Python used to store collections of data, the other 3 are List, Set, and Dictionary, all with different qualities and usage. A tuple is a collection which is ordered and unchangeable."
   ]
  },
  {
   "cell_type": "code",
   "execution_count": 122,
   "id": "e7e2103e",
   "metadata": {},
   "outputs": [],
   "source": [
    "t = (4,5,6,7,\"sudh\" ,45.67, True)"
   ]
  },
  {
   "cell_type": "code",
   "execution_count": 123,
   "id": "94af95d8",
   "metadata": {},
   "outputs": [
    {
     "data": {
      "text/plain": [
       "tuple"
      ]
     },
     "execution_count": 123,
     "metadata": {},
     "output_type": "execute_result"
    }
   ],
   "source": [
    "type(t)"
   ]
  },
  {
   "cell_type": "code",
   "execution_count": 124,
   "id": "eff41eb0",
   "metadata": {},
   "outputs": [
    {
     "data": {
      "text/plain": [
       "4"
      ]
     },
     "execution_count": 124,
     "metadata": {},
     "output_type": "execute_result"
    }
   ],
   "source": [
    "t[0]"
   ]
  },
  {
   "cell_type": "code",
   "execution_count": 125,
   "id": "a6a1e5ae",
   "metadata": {},
   "outputs": [
    {
     "data": {
      "text/plain": [
       "(4, 5, 6, 7)"
      ]
     },
     "execution_count": 125,
     "metadata": {},
     "output_type": "execute_result"
    }
   ],
   "source": [
    "t[0:4]"
   ]
  },
  {
   "cell_type": "code",
   "execution_count": 126,
   "id": "7eb9b300",
   "metadata": {},
   "outputs": [
    {
     "data": {
      "text/plain": [
       "True"
      ]
     },
     "execution_count": 126,
     "metadata": {},
     "output_type": "execute_result"
    }
   ],
   "source": [
    "t[-1]"
   ]
  },
  {
   "cell_type": "code",
   "execution_count": 127,
   "id": "9a0035ff",
   "metadata": {},
   "outputs": [
    {
     "data": {
      "text/plain": [
       "(4, 5, 6, 7, 'sudh', 45.67, True)"
      ]
     },
     "execution_count": 127,
     "metadata": {},
     "output_type": "execute_result"
    }
   ],
   "source": [
    "t"
   ]
  },
  {
   "cell_type": "code",
   "execution_count": 128,
   "id": "ac3f7463",
   "metadata": {},
   "outputs": [
    {
     "data": {
      "text/plain": [
       "(4, 6, 'sudh')"
      ]
     },
     "execution_count": 128,
     "metadata": {},
     "output_type": "execute_result"
    }
   ],
   "source": [
    "t[0:6:2]"
   ]
  },
  {
   "cell_type": "code",
   "execution_count": 129,
   "id": "53ba39a7",
   "metadata": {},
   "outputs": [
    {
     "data": {
      "text/plain": [
       "()"
      ]
     },
     "execution_count": 129,
     "metadata": {},
     "output_type": "execute_result"
    }
   ],
   "source": [
    "t[0:4:-1]"
   ]
  },
  {
   "cell_type": "code",
   "execution_count": 130,
   "id": "78fd9c5c",
   "metadata": {},
   "outputs": [],
   "source": [
    "l = [1,2,3,456,78]"
   ]
  },
  {
   "cell_type": "code",
   "execution_count": 131,
   "id": "9559471d",
   "metadata": {},
   "outputs": [],
   "source": [
    "l[2] = \"kumar\""
   ]
  },
  {
   "cell_type": "code",
   "execution_count": 132,
   "id": "dbf02fac",
   "metadata": {},
   "outputs": [
    {
     "data": {
      "text/plain": [
       "[1, 2, 'kumar', 456, 78]"
      ]
     },
     "execution_count": 132,
     "metadata": {},
     "output_type": "execute_result"
    }
   ],
   "source": [
    "l"
   ]
  },
  {
   "cell_type": "code",
   "execution_count": 133,
   "id": "eea18f3c",
   "metadata": {},
   "outputs": [
    {
     "data": {
      "text/plain": [
       "(4, 5, 6, 7, 'sudh', 45.67, True)"
      ]
     },
     "execution_count": 133,
     "metadata": {},
     "output_type": "execute_result"
    }
   ],
   "source": [
    "t"
   ]
  },
  {
   "cell_type": "code",
   "execution_count": 134,
   "id": "24afe221",
   "metadata": {},
   "outputs": [
    {
     "ename": "TypeError",
     "evalue": "'tuple' object does not support item assignment",
     "output_type": "error",
     "traceback": [
      "\u001b[1;31m---------------------------------------------------------------------------\u001b[0m",
      "\u001b[1;31mTypeError\u001b[0m                                 Traceback (most recent call last)",
      "Input \u001b[1;32mIn [134]\u001b[0m, in \u001b[0;36m<cell line: 1>\u001b[1;34m()\u001b[0m\n\u001b[1;32m----> 1\u001b[0m t[\u001b[38;5;241m2\u001b[39m] \u001b[38;5;241m=\u001b[39m \u001b[38;5;124m\"\u001b[39m\u001b[38;5;124msudh\u001b[39m\u001b[38;5;124m\"\u001b[39m\n",
      "\u001b[1;31mTypeError\u001b[0m: 'tuple' object does not support item assignment"
     ]
    }
   ],
   "source": [
    "t[2] = \"sudh\""
   ]
  },
  {
   "cell_type": "code",
   "execution_count": 135,
   "id": "da1b3fa5",
   "metadata": {},
   "outputs": [],
   "source": [
    "t1=(3,4,5,6)"
   ]
  },
  {
   "cell_type": "code",
   "execution_count": 136,
   "id": "5fad623e",
   "metadata": {},
   "outputs": [
    {
     "data": {
      "text/plain": [
       "(4, 5, 6, 7, 'sudh', 45.67, True)"
      ]
     },
     "execution_count": 136,
     "metadata": {},
     "output_type": "execute_result"
    }
   ],
   "source": [
    "t"
   ]
  },
  {
   "cell_type": "code",
   "execution_count": 137,
   "id": "53615709",
   "metadata": {},
   "outputs": [
    {
     "data": {
      "text/plain": [
       "(4, 5, 6, 7, 'sudh', 45.67, True, 3, 4, 5, 6)"
      ]
     },
     "execution_count": 137,
     "metadata": {},
     "output_type": "execute_result"
    }
   ],
   "source": [
    "t +t1"
   ]
  },
  {
   "cell_type": "code",
   "execution_count": 138,
   "id": "aa5d3f43",
   "metadata": {},
   "outputs": [
    {
     "data": {
      "text/plain": [
       "0"
      ]
     },
     "execution_count": 138,
     "metadata": {},
     "output_type": "execute_result"
    }
   ],
   "source": [
    "t.count(3)"
   ]
  },
  {
   "cell_type": "code",
   "execution_count": 139,
   "id": "3026a7c8",
   "metadata": {},
   "outputs": [
    {
     "data": {
      "text/plain": [
       "1"
      ]
     },
     "execution_count": 139,
     "metadata": {},
     "output_type": "execute_result"
    }
   ],
   "source": [
    "t.count(4)"
   ]
  },
  {
   "cell_type": "code",
   "execution_count": 140,
   "id": "243f7c2f",
   "metadata": {},
   "outputs": [
    {
     "data": {
      "text/plain": [
       "1"
      ]
     },
     "execution_count": 140,
     "metadata": {},
     "output_type": "execute_result"
    }
   ],
   "source": [
    "t.index(5)"
   ]
  },
  {
   "cell_type": "code",
   "execution_count": 141,
   "id": "83072ded",
   "metadata": {},
   "outputs": [],
   "source": [
    "t = t+t1"
   ]
  },
  {
   "cell_type": "code",
   "execution_count": 142,
   "id": "104722f5",
   "metadata": {},
   "outputs": [
    {
     "data": {
      "text/plain": [
       "(4, 5, 6, 7, 'sudh', 45.67, True, 3, 4, 5, 6)"
      ]
     },
     "execution_count": 142,
     "metadata": {},
     "output_type": "execute_result"
    }
   ],
   "source": [
    "t"
   ]
  },
  {
   "cell_type": "code",
   "execution_count": 143,
   "id": "73a910b8",
   "metadata": {},
   "outputs": [],
   "source": [
    "t = (3,4,56,7, \"sudh\")"
   ]
  },
  {
   "cell_type": "code",
   "execution_count": 144,
   "id": "811eaa44",
   "metadata": {},
   "outputs": [
    {
     "data": {
      "text/plain": [
       "[3, 4, 56, 7, 'sudh']"
      ]
     },
     "execution_count": 144,
     "metadata": {},
     "output_type": "execute_result"
    }
   ],
   "source": [
    "list(t)"
   ]
  },
  {
   "cell_type": "code",
   "execution_count": 145,
   "id": "71e18cbf",
   "metadata": {},
   "outputs": [],
   "source": [
    "t2 = list(t)"
   ]
  },
  {
   "cell_type": "code",
   "execution_count": 146,
   "id": "3d55edbf",
   "metadata": {},
   "outputs": [
    {
     "data": {
      "text/plain": [
       "[3, 4, 56, 7, 'sudh']"
      ]
     },
     "execution_count": 146,
     "metadata": {},
     "output_type": "execute_result"
    }
   ],
   "source": [
    "t2"
   ]
  },
  {
   "cell_type": "code",
   "execution_count": 147,
   "id": "829af2d1",
   "metadata": {},
   "outputs": [
    {
     "data": {
      "text/plain": [
       "(3, 4, 56, 7, 'sudh')"
      ]
     },
     "execution_count": 147,
     "metadata": {},
     "output_type": "execute_result"
    }
   ],
   "source": [
    "tuple(t2)"
   ]
  },
  {
   "cell_type": "code",
   "execution_count": 148,
   "id": "1d63a214",
   "metadata": {},
   "outputs": [
    {
     "data": {
      "text/plain": [
       "\"[3, 4, 56, 7, 'sudh']\""
      ]
     },
     "execution_count": 148,
     "metadata": {},
     "output_type": "execute_result"
    }
   ],
   "source": [
    "str(t2)"
   ]
  },
  {
   "cell_type": "markdown",
   "id": "4b199905",
   "metadata": {},
   "source": [
    "# dict"
   ]
  },
  {
   "cell_type": "markdown",
   "id": "0246ac76",
   "metadata": {},
   "source": [
    "# dict={} (curly bracket)   tuples= () (normal bracket)     list=[] [square bracket]                  "
   ]
  },
  {
   "cell_type": "code",
   "execution_count": 149,
   "id": "e86661f9",
   "metadata": {},
   "outputs": [],
   "source": [
    "d = {}"
   ]
  },
  {
   "cell_type": "code",
   "execution_count": 150,
   "id": "e7f0b7a0",
   "metadata": {},
   "outputs": [
    {
     "data": {
      "text/plain": [
       "dict"
      ]
     },
     "execution_count": 150,
     "metadata": {},
     "output_type": "execute_result"
    }
   ],
   "source": [
    "type(d)"
   ]
  },
  {
   "cell_type": "code",
   "execution_count": 151,
   "id": "78eeee1f",
   "metadata": {},
   "outputs": [],
   "source": [
    "d1 = {1}"
   ]
  },
  {
   "cell_type": "code",
   "execution_count": 152,
   "id": "b4afdde3",
   "metadata": {},
   "outputs": [
    {
     "data": {
      "text/plain": [
       "set"
      ]
     },
     "execution_count": 152,
     "metadata": {},
     "output_type": "execute_result"
    }
   ],
   "source": [
    "type(d1)"
   ]
  },
  {
   "cell_type": "markdown",
   "id": "5846e1e9",
   "metadata": {},
   "source": [
    "# resemble for dict and set both are same."
   ]
  },
  {
   "cell_type": "code",
   "execution_count": 153,
   "id": "abb09885",
   "metadata": {},
   "outputs": [],
   "source": [
    "d2 = {'key1' : \"value\" , 234 : \"xyz\" , \"name\" : \"sudh\" , \"no\" : 34324345}"
   ]
  },
  {
   "cell_type": "code",
   "execution_count": 154,
   "id": "c1e4641d",
   "metadata": {},
   "outputs": [
    {
     "data": {
      "text/plain": [
       "dict"
      ]
     },
     "execution_count": 154,
     "metadata": {},
     "output_type": "execute_result"
    }
   ],
   "source": [
    "type(d2)"
   ]
  },
  {
   "cell_type": "markdown",
   "id": "24a17d71",
   "metadata": {},
   "source": [
    "# extract the dict"
   ]
  },
  {
   "cell_type": "code",
   "execution_count": 155,
   "id": "a0a663db",
   "metadata": {},
   "outputs": [
    {
     "data": {
      "text/plain": [
       "'sudh'"
      ]
     },
     "execution_count": 155,
     "metadata": {},
     "output_type": "execute_result"
    }
   ],
   "source": [
    "d2['name']"
   ]
  },
  {
   "cell_type": "code",
   "execution_count": 156,
   "id": "b99087d6",
   "metadata": {},
   "outputs": [
    {
     "data": {
      "text/plain": [
       "34324345"
      ]
     },
     "execution_count": 156,
     "metadata": {},
     "output_type": "execute_result"
    }
   ],
   "source": [
    "d2['no']"
   ]
  },
  {
   "cell_type": "code",
   "execution_count": 157,
   "id": "b61299c0",
   "metadata": {},
   "outputs": [],
   "source": [
    "d3 = {'name' : \"sudh\" , 'tech' :[\"python\" , \"ML\" , \"DL\" , \"NLP\",\"CV\" , \"Big data\" , \"data analytics\"]}"
   ]
  },
  {
   "cell_type": "code",
   "execution_count": 158,
   "id": "9f4d997e",
   "metadata": {},
   "outputs": [
    {
     "data": {
      "text/plain": [
       "{'name': 'sudh',\n",
       " 'tech': ['python', 'ML', 'DL', 'NLP', 'CV', 'Big data', 'data analytics']}"
      ]
     },
     "execution_count": 158,
     "metadata": {},
     "output_type": "execute_result"
    }
   ],
   "source": [
    "d3"
   ]
  },
  {
   "cell_type": "code",
   "execution_count": 159,
   "id": "d884f641",
   "metadata": {},
   "outputs": [
    {
     "data": {
      "text/plain": [
       "['python', 'ML', 'DL', 'NLP', 'CV', 'Big data', 'data analytics']"
      ]
     },
     "execution_count": 159,
     "metadata": {},
     "output_type": "execute_result"
    }
   ],
   "source": [
    "d3['tech']"
   ]
  },
  {
   "cell_type": "markdown",
   "id": "80361b3e",
   "metadata": {},
   "source": [
    "# in operator"
   ]
  },
  {
   "cell_type": "code",
   "execution_count": 160,
   "id": "76c61ab2",
   "metadata": {},
   "outputs": [
    {
     "data": {
      "text/plain": [
       "True"
      ]
     },
     "execution_count": 160,
     "metadata": {},
     "output_type": "execute_result"
    }
   ],
   "source": [
    "\"python\" in d3['tech']"
   ]
  },
  {
   "cell_type": "code",
   "execution_count": 161,
   "id": "39e6922e",
   "metadata": {},
   "outputs": [],
   "source": [
    "d4 = {\"name\" : \"iNeuron\" , \" contact_info\" : 345345 , \"name\":\"sudh\"}"
   ]
  },
  {
   "cell_type": "code",
   "execution_count": 162,
   "id": "5c0baf62",
   "metadata": {},
   "outputs": [
    {
     "data": {
      "text/plain": [
       "{'name': 'sudh', ' contact_info': 345345}"
      ]
     },
     "execution_count": 162,
     "metadata": {},
     "output_type": "execute_result"
    }
   ],
   "source": [
    "d4"
   ]
  },
  {
   "cell_type": "markdown",
   "id": "113c58b0",
   "metadata": {},
   "source": [
    "# add something in list"
   ]
  },
  {
   "cell_type": "code",
   "execution_count": 163,
   "id": "31360767",
   "metadata": {},
   "outputs": [],
   "source": [
    "d4[\"k1\"] = \"xyz\""
   ]
  },
  {
   "cell_type": "code",
   "execution_count": 164,
   "id": "f4a427a6",
   "metadata": {},
   "outputs": [
    {
     "data": {
      "text/plain": [
       "{'name': 'sudh', ' contact_info': 345345, 'k1': 'xyz'}"
      ]
     },
     "execution_count": 164,
     "metadata": {},
     "output_type": "execute_result"
    }
   ],
   "source": [
    "d4"
   ]
  },
  {
   "cell_type": "code",
   "execution_count": 165,
   "id": "8a17e79e",
   "metadata": {},
   "outputs": [],
   "source": [
    "d4[\"name\"] = \"xyz\""
   ]
  },
  {
   "cell_type": "code",
   "execution_count": 166,
   "id": "918708f5",
   "metadata": {},
   "outputs": [
    {
     "data": {
      "text/plain": [
       "{'name': 'xyz', ' contact_info': 345345, 'k1': 'xyz'}"
      ]
     },
     "execution_count": 166,
     "metadata": {},
     "output_type": "execute_result"
    }
   ],
   "source": [
    "d4"
   ]
  },
  {
   "cell_type": "code",
   "execution_count": 167,
   "id": "fcd89374",
   "metadata": {},
   "outputs": [],
   "source": [
    "d4[\"name1\"] = \"xyz\""
   ]
  },
  {
   "cell_type": "code",
   "execution_count": 168,
   "id": "fa741488",
   "metadata": {},
   "outputs": [
    {
     "data": {
      "text/plain": [
       "{'name': 'xyz', ' contact_info': 345345, 'k1': 'xyz', 'name1': 'xyz'}"
      ]
     },
     "execution_count": 168,
     "metadata": {},
     "output_type": "execute_result"
    }
   ],
   "source": [
    "d4"
   ]
  },
  {
   "cell_type": "code",
   "execution_count": 170,
   "id": "c236c6c9",
   "metadata": {},
   "outputs": [],
   "source": [
    "d4['k2'] = {}"
   ]
  },
  {
   "cell_type": "code",
   "execution_count": 171,
   "id": "8676c0b3",
   "metadata": {},
   "outputs": [
    {
     "data": {
      "text/plain": [
       "{'key1': 'value', 234: 'xyz', 'name': 'sudh', 'no': 34324345}"
      ]
     },
     "execution_count": 171,
     "metadata": {},
     "output_type": "execute_result"
    }
   ],
   "source": [
    "d2"
   ]
  },
  {
   "cell_type": "code",
   "execution_count": 172,
   "id": "828f4d78",
   "metadata": {},
   "outputs": [],
   "source": [
    "d4['k2'] = d2"
   ]
  },
  {
   "cell_type": "code",
   "execution_count": 173,
   "id": "a0380e6e",
   "metadata": {},
   "outputs": [
    {
     "data": {
      "text/plain": [
       "{'key1': 'value', 234: 'xyz', 'name': 'sudh', 'no': 34324345}"
      ]
     },
     "execution_count": 173,
     "metadata": {},
     "output_type": "execute_result"
    }
   ],
   "source": [
    "d2"
   ]
  },
  {
   "cell_type": "code",
   "execution_count": 174,
   "id": "5e5bdb18",
   "metadata": {},
   "outputs": [
    {
     "data": {
      "text/plain": [
       "{'name': 'xyz',\n",
       " ' contact_info': 345345,\n",
       " 'k1': 'xyz',\n",
       " 'name1': 'xyz',\n",
       " 'k2': {'key1': 'value', 234: 'xyz', 'name': 'sudh', 'no': 34324345}}"
      ]
     },
     "execution_count": 174,
     "metadata": {},
     "output_type": "execute_result"
    }
   ],
   "source": [
    "d4"
   ]
  },
  {
   "cell_type": "markdown",
   "id": "d4b4ecdb",
   "metadata": {},
   "source": [
    "# extract no"
   ]
  },
  {
   "cell_type": "code",
   "execution_count": 175,
   "id": "75003de8",
   "metadata": {},
   "outputs": [
    {
     "data": {
      "text/plain": [
       "{'key1': 'value', 234: 'xyz', 'name': 'sudh', 'no': 34324345}"
      ]
     },
     "execution_count": 175,
     "metadata": {},
     "output_type": "execute_result"
    }
   ],
   "source": [
    "d4['k2']"
   ]
  },
  {
   "cell_type": "code",
   "execution_count": 176,
   "id": "35664ccd",
   "metadata": {},
   "outputs": [
    {
     "data": {
      "text/plain": [
       "34324345"
      ]
     },
     "execution_count": 176,
     "metadata": {},
     "output_type": "execute_result"
    }
   ],
   "source": [
    "d4['k2']['no']"
   ]
  },
  {
   "cell_type": "code",
   "execution_count": 177,
   "id": "c040f158",
   "metadata": {},
   "outputs": [
    {
     "ename": "SyntaxError",
     "evalue": "invalid syntax (3752742121.py, line 1)",
     "output_type": "error",
     "traceback": [
      "\u001b[1;36m  Input \u001b[1;32mIn [177]\u001b[1;36m\u001b[0m\n\u001b[1;33m    d5 = {@: \"sdfsd\"}\u001b[0m\n\u001b[1;37m          ^\u001b[0m\n\u001b[1;31mSyntaxError\u001b[0m\u001b[1;31m:\u001b[0m invalid syntax\n"
     ]
    }
   ],
   "source": [
    "d5 = {@: \"sdfsd\"}"
   ]
  },
  {
   "cell_type": "code",
   "execution_count": 178,
   "id": "4766be84",
   "metadata": {},
   "outputs": [],
   "source": [
    "d5 = {_: \"sdfsd\"}"
   ]
  },
  {
   "cell_type": "code",
   "execution_count": 179,
   "id": "49d76372",
   "metadata": {},
   "outputs": [
    {
     "data": {
      "text/plain": [
       "'sdfsd'"
      ]
     },
     "execution_count": 179,
     "metadata": {},
     "output_type": "execute_result"
    }
   ],
   "source": [
    "d5[_]"
   ]
  },
  {
   "cell_type": "code",
   "execution_count": 180,
   "id": "b8e6b236",
   "metadata": {},
   "outputs": [],
   "source": [
    "d6 = {(1,2,34) : \"fsdfs\"}"
   ]
  },
  {
   "cell_type": "code",
   "execution_count": 181,
   "id": "88fcfe23",
   "metadata": {},
   "outputs": [
    {
     "data": {
      "text/plain": [
       "'fsdfs'"
      ]
     },
     "execution_count": 181,
     "metadata": {},
     "output_type": "execute_result"
    }
   ],
   "source": [
    "d6[(1,2,34)]"
   ]
  },
  {
   "cell_type": "code",
   "execution_count": 182,
   "id": "5fc6b808",
   "metadata": {},
   "outputs": [
    {
     "ename": "TypeError",
     "evalue": "unhashable type: 'list'",
     "output_type": "error",
     "traceback": [
      "\u001b[1;31m---------------------------------------------------------------------------\u001b[0m",
      "\u001b[1;31mTypeError\u001b[0m                                 Traceback (most recent call last)",
      "Input \u001b[1;32mIn [182]\u001b[0m, in \u001b[0;36m<cell line: 1>\u001b[1;34m()\u001b[0m\n\u001b[1;32m----> 1\u001b[0m d7 \u001b[38;5;241m=\u001b[39m {[\u001b[38;5;241m1\u001b[39m,\u001b[38;5;241m2\u001b[39m,\u001b[38;5;241m3\u001b[39m,\u001b[38;5;241m4\u001b[39m] : \u001b[38;5;124m\"\u001b[39m\u001b[38;5;124mfasdfasfas\u001b[39m\u001b[38;5;124m\"\u001b[39m}\n",
      "\u001b[1;31mTypeError\u001b[0m: unhashable type: 'list'"
     ]
    }
   ],
   "source": [
    "d7 = {[1,2,3,4] : \"fasdfasfas\"}"
   ]
  },
  {
   "cell_type": "code",
   "execution_count": 183,
   "id": "9f759397",
   "metadata": {},
   "outputs": [
    {
     "ename": "TypeError",
     "evalue": "unhashable type: 'dict'",
     "output_type": "error",
     "traceback": [
      "\u001b[1;31m---------------------------------------------------------------------------\u001b[0m",
      "\u001b[1;31mTypeError\u001b[0m                                 Traceback (most recent call last)",
      "Input \u001b[1;32mIn [183]\u001b[0m, in \u001b[0;36m<cell line: 1>\u001b[1;34m()\u001b[0m\n\u001b[1;32m----> 1\u001b[0m d8 \u001b[38;5;241m=\u001b[39m {{\u001b[38;5;241m3\u001b[39m:\u001b[38;5;241m4\u001b[39m} : \u001b[38;5;124m\"\u001b[39m\u001b[38;5;124mfsdfs\u001b[39m\u001b[38;5;124m\"\u001b[39m}\n",
      "\u001b[1;31mTypeError\u001b[0m: unhashable type: 'dict'"
     ]
    }
   ],
   "source": [
    "d8 = {{3:4} : \"fsdfs\"}"
   ]
  },
  {
   "cell_type": "code",
   "execution_count": 184,
   "id": "9e686890",
   "metadata": {},
   "outputs": [
    {
     "data": {
      "text/plain": [
       "{}"
      ]
     },
     "execution_count": 184,
     "metadata": {},
     "output_type": "execute_result"
    }
   ],
   "source": [
    "d"
   ]
  },
  {
   "cell_type": "code",
   "execution_count": 185,
   "id": "584c250d",
   "metadata": {},
   "outputs": [
    {
     "data": {
      "text/plain": [
       "{'key1': 'value', 234: 'xyz', 'name': 'sudh', 'no': 34324345}"
      ]
     },
     "execution_count": 185,
     "metadata": {},
     "output_type": "execute_result"
    }
   ],
   "source": [
    "d2"
   ]
  },
  {
   "cell_type": "code",
   "execution_count": 186,
   "id": "0336f0eb",
   "metadata": {},
   "outputs": [
    {
     "data": {
      "text/plain": [
       "{'key1': 'value', 234: 'xyz', 'name': 'sudh', 'no': 34324345}"
      ]
     },
     "execution_count": 186,
     "metadata": {},
     "output_type": "execute_result"
    }
   ],
   "source": [
    "d2"
   ]
  },
  {
   "cell_type": "code",
   "execution_count": 187,
   "id": "5cb1c4f3",
   "metadata": {},
   "outputs": [
    {
     "data": {
      "text/plain": [
       "{'name': 'sudh',\n",
       " 'tech': ['python', 'ML', 'DL', 'NLP', 'CV', 'Big data', 'data analytics']}"
      ]
     },
     "execution_count": 187,
     "metadata": {},
     "output_type": "execute_result"
    }
   ],
   "source": [
    "d3"
   ]
  },
  {
   "cell_type": "code",
   "execution_count": 188,
   "id": "7eda3410",
   "metadata": {},
   "outputs": [
    {
     "ename": "TypeError",
     "evalue": "unsupported operand type(s) for +: 'dict' and 'dict'",
     "output_type": "error",
     "traceback": [
      "\u001b[1;31m---------------------------------------------------------------------------\u001b[0m",
      "\u001b[1;31mTypeError\u001b[0m                                 Traceback (most recent call last)",
      "Input \u001b[1;32mIn [188]\u001b[0m, in \u001b[0;36m<cell line: 1>\u001b[1;34m()\u001b[0m\n\u001b[1;32m----> 1\u001b[0m \u001b[43md2\u001b[49m\u001b[43m \u001b[49m\u001b[38;5;241;43m+\u001b[39;49m\u001b[43md3\u001b[49m\n",
      "\u001b[1;31mTypeError\u001b[0m: unsupported operand type(s) for +: 'dict' and 'dict'"
     ]
    }
   ],
   "source": [
    "d2 +d3"
   ]
  },
  {
   "cell_type": "code",
   "execution_count": 189,
   "id": "afb439b8",
   "metadata": {},
   "outputs": [
    {
     "data": {
      "text/plain": [
       "{'key1': 'value', 234: 'xyz', 'name': 'sudh', 'no': 34324345}"
      ]
     },
     "execution_count": 189,
     "metadata": {},
     "output_type": "execute_result"
    }
   ],
   "source": [
    "d2"
   ]
  },
  {
   "cell_type": "code",
   "execution_count": 190,
   "id": "c968cc80",
   "metadata": {},
   "outputs": [
    {
     "data": {
      "text/plain": [
       "dict_keys(['key1', 234, 'name', 'no'])"
      ]
     },
     "execution_count": 190,
     "metadata": {},
     "output_type": "execute_result"
    }
   ],
   "source": [
    "d2.keys()"
   ]
  },
  {
   "cell_type": "code",
   "execution_count": 191,
   "id": "57105ad5",
   "metadata": {},
   "outputs": [
    {
     "data": {
      "text/plain": [
       "dict_values(['value', 'xyz', 'sudh', 34324345])"
      ]
     },
     "execution_count": 191,
     "metadata": {},
     "output_type": "execute_result"
    }
   ],
   "source": [
    "d2.values()"
   ]
  },
  {
   "cell_type": "code",
   "execution_count": 192,
   "id": "9f301af3",
   "metadata": {},
   "outputs": [
    {
     "data": {
      "text/plain": [
       "dict_items([('key1', 'value'), (234, 'xyz'), ('name', 'sudh'), ('no', 34324345)])"
      ]
     },
     "execution_count": 192,
     "metadata": {},
     "output_type": "execute_result"
    }
   ],
   "source": [
    "d2.items()"
   ]
  },
  {
   "cell_type": "code",
   "execution_count": 193,
   "id": "c3c67f74",
   "metadata": {},
   "outputs": [],
   "source": [
    "s = {3,4,5,6,7,8}"
   ]
  },
  {
   "cell_type": "code",
   "execution_count": 194,
   "id": "67dfc76b",
   "metadata": {},
   "outputs": [
    {
     "data": {
      "text/plain": [
       "set"
      ]
     },
     "execution_count": 194,
     "metadata": {},
     "output_type": "execute_result"
    }
   ],
   "source": [
    "type(s)"
   ]
  },
  {
   "cell_type": "code",
   "execution_count": 195,
   "id": "981a8f80",
   "metadata": {},
   "outputs": [],
   "source": [
    "s1 ={3,4,4,5,6,6,7,7,8,8,9,9,0,0,0}"
   ]
  },
  {
   "cell_type": "code",
   "execution_count": 196,
   "id": "812499d2",
   "metadata": {},
   "outputs": [
    {
     "data": {
      "text/plain": [
       "{0, 3, 4, 5, 6, 7, 8, 9}"
      ]
     },
     "execution_count": 196,
     "metadata": {},
     "output_type": "execute_result"
    }
   ],
   "source": [
    "s1"
   ]
  },
  {
   "cell_type": "code",
   "execution_count": 197,
   "id": "9dc67131",
   "metadata": {},
   "outputs": [],
   "source": [
    "s2 = {3245,4545,6456,5645,675,6234,345}"
   ]
  },
  {
   "cell_type": "code",
   "execution_count": 198,
   "id": "a07e87c8",
   "metadata": {},
   "outputs": [
    {
     "data": {
      "text/plain": [
       "{345, 675, 3245, 4545, 5645, 6234, 6456}"
      ]
     },
     "execution_count": 198,
     "metadata": {},
     "output_type": "execute_result"
    }
   ],
   "source": [
    "s2"
   ]
  },
  {
   "cell_type": "code",
   "execution_count": 199,
   "id": "cfde135c",
   "metadata": {},
   "outputs": [],
   "source": [
    "s3 = {\"sudh\" , 324,34,12,645,12,5,'b' , '6'}"
   ]
  },
  {
   "cell_type": "code",
   "execution_count": 200,
   "id": "3aeb64e3",
   "metadata": {},
   "outputs": [
    {
     "data": {
      "text/plain": [
       "{12, 324, 34, 5, '6', 645, 'b', 'sudh'}"
      ]
     },
     "execution_count": 200,
     "metadata": {},
     "output_type": "execute_result"
    }
   ],
   "source": [
    "s3"
   ]
  },
  {
   "cell_type": "code",
   "execution_count": 201,
   "id": "d0342e1c",
   "metadata": {},
   "outputs": [
    {
     "ename": "TypeError",
     "evalue": "'set' object is not subscriptable",
     "output_type": "error",
     "traceback": [
      "\u001b[1;31m---------------------------------------------------------------------------\u001b[0m",
      "\u001b[1;31mTypeError\u001b[0m                                 Traceback (most recent call last)",
      "Input \u001b[1;32mIn [201]\u001b[0m, in \u001b[0;36m<cell line: 1>\u001b[1;34m()\u001b[0m\n\u001b[1;32m----> 1\u001b[0m \u001b[43ms3\u001b[49m\u001b[43m[\u001b[49m\u001b[38;5;241;43m0\u001b[39;49m\u001b[43m]\u001b[49m\n",
      "\u001b[1;31mTypeError\u001b[0m: 'set' object is not subscriptable"
     ]
    }
   ],
   "source": [
    "s3[0]"
   ]
  },
  {
   "cell_type": "code",
   "execution_count": 202,
   "id": "5e1f75a2",
   "metadata": {},
   "outputs": [
    {
     "data": {
      "text/plain": [
       "[34, 324, 5, 645, '6', 12, 'b', 'sudh']"
      ]
     },
     "execution_count": 202,
     "metadata": {},
     "output_type": "execute_result"
    }
   ],
   "source": [
    "list(s3)"
   ]
  },
  {
   "cell_type": "code",
   "execution_count": 203,
   "id": "3e3a4386",
   "metadata": {},
   "outputs": [
    {
     "data": {
      "text/plain": [
       "(34, 324, 5, 645, '6', 12, 'b', 'sudh')"
      ]
     },
     "execution_count": 203,
     "metadata": {},
     "output_type": "execute_result"
    }
   ],
   "source": [
    "tuple(s3)"
   ]
  },
  {
   "cell_type": "code",
   "execution_count": 204,
   "id": "c743e369",
   "metadata": {},
   "outputs": [],
   "source": [
    "s3 = ('b' , 34, 324, 5, 645, '6', 'sudh', 12)"
   ]
  },
  {
   "cell_type": "code",
   "execution_count": 205,
   "id": "3705bd8f",
   "metadata": {},
   "outputs": [
    {
     "data": {
      "text/plain": [
       "('b', 34, 324, 5, 645, '6', 'sudh', 12)"
      ]
     },
     "execution_count": 205,
     "metadata": {},
     "output_type": "execute_result"
    }
   ],
   "source": [
    "tuple(s3)"
   ]
  },
  {
   "cell_type": "code",
   "execution_count": 206,
   "id": "2ebf5cb2",
   "metadata": {},
   "outputs": [],
   "source": [
    "l = [2,3,4,5656,7,6,7,7,7,77,7,7,7,7,7,7,7,7,7,7,7,7,7,7]"
   ]
  },
  {
   "cell_type": "code",
   "execution_count": 208,
   "id": "34e1eb3c",
   "metadata": {},
   "outputs": [],
   "source": [
    "l = list(set(l))"
   ]
  },
  {
   "cell_type": "code",
   "execution_count": 209,
   "id": "d95fd59b",
   "metadata": {},
   "outputs": [
    {
     "data": {
      "text/plain": [
       "[2, 3, 4, 6, 7, 77, 5656]"
      ]
     },
     "execution_count": 209,
     "metadata": {},
     "output_type": "execute_result"
    }
   ],
   "source": [
    "l"
   ]
  },
  {
   "cell_type": "code",
   "execution_count": 210,
   "id": "f73f071c",
   "metadata": {},
   "outputs": [
    {
     "data": {
      "text/plain": [
       "{345, 675, 3245, 4545, 5645, 6234, 6456}"
      ]
     },
     "execution_count": 210,
     "metadata": {},
     "output_type": "execute_result"
    }
   ],
   "source": [
    "s2"
   ]
  },
  {
   "cell_type": "markdown",
   "id": "bf345d9e",
   "metadata": {},
   "source": [
    "# adding list element"
   ]
  },
  {
   "cell_type": "code",
   "execution_count": 211,
   "id": "42fda7e0",
   "metadata": {},
   "outputs": [],
   "source": [
    "s2.add(34)"
   ]
  },
  {
   "cell_type": "code",
   "execution_count": 212,
   "id": "3be5dd00",
   "metadata": {},
   "outputs": [
    {
     "data": {
      "text/plain": [
       "{34, 345, 675, 3245, 4545, 5645, 6234, 6456}"
      ]
     },
     "execution_count": 212,
     "metadata": {},
     "output_type": "execute_result"
    }
   ],
   "source": [
    "s2"
   ]
  },
  {
   "cell_type": "code",
   "execution_count": 213,
   "id": "390ac7ef",
   "metadata": {},
   "outputs": [
    {
     "ename": "TypeError",
     "evalue": "unhashable type: 'list'",
     "output_type": "error",
     "traceback": [
      "\u001b[1;31m---------------------------------------------------------------------------\u001b[0m",
      "\u001b[1;31mTypeError\u001b[0m                                 Traceback (most recent call last)",
      "Input \u001b[1;32mIn [213]\u001b[0m, in \u001b[0;36m<cell line: 1>\u001b[1;34m()\u001b[0m\n\u001b[1;32m----> 1\u001b[0m \u001b[43ms2\u001b[49m\u001b[38;5;241;43m.\u001b[39;49m\u001b[43madd\u001b[49m\u001b[43m(\u001b[49m\u001b[43m[\u001b[49m\u001b[38;5;241;43m1\u001b[39;49m\u001b[43m,\u001b[49m\u001b[38;5;241;43m2\u001b[39;49m\u001b[43m,\u001b[49m\u001b[38;5;241;43m3\u001b[39;49m\u001b[43m,\u001b[49m\u001b[38;5;241;43m4\u001b[39;49m\u001b[43m,\u001b[49m\u001b[38;5;241;43m5\u001b[39;49m\u001b[43m]\u001b[49m\u001b[43m)\u001b[49m\n",
      "\u001b[1;31mTypeError\u001b[0m: unhashable type: 'list'"
     ]
    }
   ],
   "source": [
    "s2.add([1,2,3,4,5])"
   ]
  },
  {
   "cell_type": "code",
   "execution_count": 214,
   "id": "b9b2e35a",
   "metadata": {},
   "outputs": [],
   "source": [
    "s = {(1,2,3,4,5), 3,4,45,65,6}"
   ]
  },
  {
   "cell_type": "code",
   "execution_count": 215,
   "id": "9eb760b6",
   "metadata": {},
   "outputs": [
    {
     "data": {
      "text/plain": [
       "{(1, 2, 3, 4, 5), 3, 4, 45, 6, 65}"
      ]
     },
     "execution_count": 215,
     "metadata": {},
     "output_type": "execute_result"
    }
   ],
   "source": [
    "s"
   ]
  },
  {
   "cell_type": "code",
   "execution_count": 216,
   "id": "3b916e6f",
   "metadata": {},
   "outputs": [
    {
     "ename": "TypeError",
     "evalue": "unhashable type: 'list'",
     "output_type": "error",
     "traceback": [
      "\u001b[1;31m---------------------------------------------------------------------------\u001b[0m",
      "\u001b[1;31mTypeError\u001b[0m                                 Traceback (most recent call last)",
      "Input \u001b[1;32mIn [216]\u001b[0m, in \u001b[0;36m<cell line: 1>\u001b[1;34m()\u001b[0m\n\u001b[1;32m----> 1\u001b[0m s1 \u001b[38;5;241m=\u001b[39m {[\u001b[38;5;241m1\u001b[39m,\u001b[38;5;241m2\u001b[39m,\u001b[38;5;241m3\u001b[39m,\u001b[38;5;241m4\u001b[39m] , \u001b[38;5;241m345\u001b[39m,\u001b[38;5;241m345\u001b[39m}\n",
      "\u001b[1;31mTypeError\u001b[0m: unhashable type: 'list'"
     ]
    }
   ],
   "source": [
    "s1 = {[1,2,3,4] , 345,345}"
   ]
  },
  {
   "cell_type": "code",
   "execution_count": 217,
   "id": "0c3776cf",
   "metadata": {},
   "outputs": [
    {
     "data": {
      "text/plain": [
       "{(1, 2, 3, 4, 5), 3, 4, 45, 6, 65}"
      ]
     },
     "execution_count": 217,
     "metadata": {},
     "output_type": "execute_result"
    }
   ],
   "source": [
    "s"
   ]
  },
  {
   "cell_type": "code",
   "execution_count": 218,
   "id": "60fc688f",
   "metadata": {},
   "outputs": [],
   "source": [
    "s.remove(3)"
   ]
  },
  {
   "cell_type": "code",
   "execution_count": 222,
   "id": "f2b640c0",
   "metadata": {},
   "outputs": [
    {
     "ename": "KeyError",
     "evalue": "33455",
     "output_type": "error",
     "traceback": [
      "\u001b[1;31m---------------------------------------------------------------------------\u001b[0m",
      "\u001b[1;31mKeyError\u001b[0m                                  Traceback (most recent call last)",
      "Input \u001b[1;32mIn [222]\u001b[0m, in \u001b[0;36m<cell line: 1>\u001b[1;34m()\u001b[0m\n\u001b[1;32m----> 1\u001b[0m \u001b[43ms\u001b[49m\u001b[38;5;241;43m.\u001b[39;49m\u001b[43mremove\u001b[49m\u001b[43m(\u001b[49m\u001b[38;5;241;43m33455\u001b[39;49m\u001b[43m)\u001b[49m\n",
      "\u001b[1;31mKeyError\u001b[0m: 33455"
     ]
    }
   ],
   "source": [
    "s.remove(33455)"
   ]
  },
  {
   "cell_type": "code",
   "execution_count": 219,
   "id": "fb757a8d",
   "metadata": {},
   "outputs": [
    {
     "data": {
      "text/plain": [
       "{(1, 2, 3, 4, 5), 4, 45, 6, 65}"
      ]
     },
     "execution_count": 219,
     "metadata": {},
     "output_type": "execute_result"
    }
   ],
   "source": [
    "s"
   ]
  },
  {
   "cell_type": "code",
   "execution_count": 220,
   "id": "bb5052c1",
   "metadata": {},
   "outputs": [],
   "source": [
    "s.discard(4)"
   ]
  },
  {
   "cell_type": "markdown",
   "id": "feb08518",
   "metadata": {},
   "source": [
    "# no error show in discard "
   ]
  },
  {
   "cell_type": "code",
   "execution_count": 223,
   "id": "8415405c",
   "metadata": {},
   "outputs": [],
   "source": [
    "s.discard(3452646)"
   ]
  },
  {
   "cell_type": "code",
   "execution_count": 224,
   "id": "ae27ac83",
   "metadata": {},
   "outputs": [
    {
     "data": {
      "text/plain": [
       "65"
      ]
     },
     "execution_count": 224,
     "metadata": {},
     "output_type": "execute_result"
    }
   ],
   "source": [
    "s.pop()"
   ]
  },
  {
   "cell_type": "code",
   "execution_count": 221,
   "id": "fc9a4c9f",
   "metadata": {},
   "outputs": [
    {
     "data": {
      "text/plain": [
       "{(1, 2, 3, 4, 5), 45, 6, 65}"
      ]
     },
     "execution_count": 221,
     "metadata": {},
     "output_type": "execute_result"
    }
   ],
   "source": [
    "s"
   ]
  },
  {
   "cell_type": "code",
   "execution_count": 225,
   "id": "4109d889",
   "metadata": {},
   "outputs": [
    {
     "data": {
      "text/plain": [
       "set"
      ]
     },
     "execution_count": 225,
     "metadata": {},
     "output_type": "execute_result"
    }
   ],
   "source": [
    "type(s)"
   ]
  },
  {
   "cell_type": "code",
   "execution_count": 226,
   "id": "afb62b64",
   "metadata": {},
   "outputs": [],
   "source": [
    "l = list(s)"
   ]
  },
  {
   "cell_type": "code",
   "execution_count": 227,
   "id": "be08eb6b",
   "metadata": {},
   "outputs": [
    {
     "data": {
      "text/plain": [
       "[6, (1, 2, 3, 4, 5), 45]"
      ]
     },
     "execution_count": 227,
     "metadata": {},
     "output_type": "execute_result"
    }
   ],
   "source": [
    "l"
   ]
  },
  {
   "cell_type": "code",
   "execution_count": 228,
   "id": "93d7b68c",
   "metadata": {},
   "outputs": [
    {
     "data": {
      "text/plain": [
       "{(1, 2, 3, 4, 5), 45, 6}"
      ]
     },
     "execution_count": 228,
     "metadata": {},
     "output_type": "execute_result"
    }
   ],
   "source": [
    "set(l)"
   ]
  },
  {
   "cell_type": "code",
   "execution_count": null,
   "id": "ba506aa9",
   "metadata": {},
   "outputs": [],
   "source": []
  },
  {
   "cell_type": "code",
   "execution_count": null,
   "id": "99993f82",
   "metadata": {},
   "outputs": [],
   "source": [
    "str\n",
    "list\n",
    "tuple\n",
    "dict\n",
    "set"
   ]
  }
 ],
 "metadata": {
  "kernelspec": {
   "display_name": "Python 3 (ipykernel)",
   "language": "python",
   "name": "python3"
  },
  "language_info": {
   "codemirror_mode": {
    "name": "ipython",
    "version": 3
   },
   "file_extension": ".py",
   "mimetype": "text/x-python",
   "name": "python",
   "nbconvert_exporter": "python",
   "pygments_lexer": "ipython3",
   "version": "3.9.12"
  }
 },
 "nbformat": 4,
 "nbformat_minor": 5
}
